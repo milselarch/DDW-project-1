{
 "cells": [
  {
   "cell_type": "markdown",
   "metadata": {},
   "source": [
    "# Mini Project: Sorting and Evaluating Math Expressions"
   ]
  },
  {
   "cell_type": "markdown",
   "metadata": {},
   "source": [
    "## Week 3"
   ]
  },
  {
   "cell_type": "markdown",
   "metadata": {},
   "source": [
    "**Q1.** *Mergesort:* Modify your `mergesort(array)` function that you did in your cohort session to take one additional argument called `byfunc`, i.e. `mergesort(array, byfunc)`. If the caller does not specify the value of `byfunc`, its default value is `None`. When this argument is `None`, the function `mergesort` behaves similar to your cohort session by sorting the array according to its values. However, when the value of this argument is not `None` but rather some other function, your `mergesort` function should sort the array according to the value returned by this function. \n",
    "\n",
    "For example, instead of sorting an array of integers, we want to sort an array of tupple.\n",
    "```python\n",
    "array = [(1, 2), (3, 2), (2, -1), (4, 7), (-1, -2)]\n",
    "```\n",
    "We can define a function say `select()` as follows:\n",
    "```python\n",
    "def select(item):\n",
    "    return item[0]\n",
    "```\n",
    "\n",
    "You can then should be able to call your `mergesort()` function in the following:\n",
    "```python\n",
    "mergesort(array, select)\n",
    "```\n",
    "which will sort the list of tuples according to the value of its *first* element (recall `item[0]` in `select()`). This means that if you want to sort based on the *second* element of the tuple, you can redefine select as:\n",
    "```python\n",
    "def select(item):\n",
    "    return item[1]\n",
    "```\n",
    "\n",
    "You can also apply this to a list of objects, say `User` class objects.\n",
    "```python\n",
    "array = [<User 1>, <User 2>, <User 3>, ..., <User 101>]\n",
    "```\n",
    "You can define the following `select()` function to sort according to its `username` attribute.\n",
    "```python\n",
    "def select(item):\n",
    "    return item.username\n",
    "```\n",
    "\n",
    "You can then call the `mergesort()` function as follows:\n",
    "```python\n",
    "mergesort(array, select)\n",
    "```\n",
    "\n",
    "Python allows you to write [lambda functions](https://realpython.com/python-lambda/) to replace your `select()` function definition. You can simply call merge sort with the following without defining `select()`.\n",
    "```python\n",
    "mergesort(array, lambda item: item.username)\n",
    "```"
   ]
  },
  {
   "cell_type": "code",
   "execution_count": 8,
   "metadata": {},
   "outputs": [
    {
     "name": "stdout",
     "output_type": "stream",
     "text": [
      "[3 0 2 1]\n",
      "[-1, 1, 2, 5]\n"
     ]
    }
   ],
   "source": [
    "import numpy as np\n",
    "a = np.array([1, 5, 2, -1])\n",
    "indexes = np.argsort(a)\n",
    "print(indexes)\n",
    "\n",
    "print(sorted(a))"
   ]
  },
  {
   "cell_type": "code",
   "execution_count": 6,
   "metadata": {},
   "outputs": [
    {
     "name": "stdout",
     "output_type": "stream",
     "text": [
      "Collecting numpy\n",
      "  Using cached numpy-1.21.2-cp37-cp37m-manylinux_2_12_x86_64.manylinux2010_x86_64.whl (15.7 MB)\n",
      "Installing collected packages: numpy\n",
      "Successfully installed numpy-1.21.2\n"
     ]
    }
   ],
   "source": [
    "!pip install numpy"
   ]
  },
  {
   "cell_type": "code",
   "execution_count": 25,
   "metadata": {},
   "outputs": [],
   "source": [
    "def merge(array, p, q, r, byfunc):\n",
    "    sorted_arr = []\n",
    "    left_arr = array[p:q]\n",
    "    right_arr = array[q:r]\n",
    "    left_index = 0\n",
    "    right_index = 0\n",
    "\n",
    "    # print('MERGE', left_arr, right_arr)\n",
    "    # print('M-START', array[p:r])\n",
    "\n",
    "    while True:\n",
    "        if len(left_arr) + len(right_arr) == len(sorted_arr):\n",
    "            break\n",
    "\n",
    "        if left_index >= len(left_arr):\n",
    "            sorted_arr.append(right_arr[right_index])\n",
    "            right_index += 1\n",
    "            continue\n",
    "\n",
    "        if right_index >= len(right_arr):\n",
    "            sorted_arr.append(left_arr[left_index])\n",
    "            left_index += 1\n",
    "            continue\n",
    "\n",
    "        if byfunc(left_arr[left_index]) < byfunc(right_arr[right_index]):\n",
    "            sorted_arr.append(left_arr[left_index])\n",
    "            left_index += 1\n",
    "        else:\n",
    "            sorted_arr.append(right_arr[right_index])\n",
    "            right_index += 1\n",
    "\n",
    "    array[p:r] = sorted_arr\n",
    "    # print('M-END', sorted_arr, array[p:r])\n",
    "    \n",
    "def mergesort_recursive(array, p, r, byfunc):\n",
    "    if p == r:\n",
    "        return\n",
    "    if p + 1 == r:\n",
    "        return\n",
    "\n",
    "    p0 = p\n",
    "    r0 = p + (r - p) // 2\n",
    "    p1 = r0 + 1\n",
    "    r1 = r\n",
    "\n",
    "    # print('PRESORT', array, array[p:r])\n",
    "    mergesort_recursive(array, p0, r0, byfunc)\n",
    "    mergesort_recursive(array, r0, r1, byfunc)\n",
    "    merge(array, p0, r0, r, byfunc)\n",
    "    # print('AFTSORT', array, array[p:r])\n",
    "\n",
    "def mergesort(array, byfunc=None):\n",
    "    if byfunc is None:\n",
    "        byfunc = lambda x: x\n",
    "    \n",
    "    return mergesort_recursive(array, 0, len(array), byfunc)"
   ]
  },
  {
   "cell_type": "code",
   "execution_count": 26,
   "metadata": {},
   "outputs": [
    {
     "name": "stdout",
     "output_type": "stream",
     "text": [
      "(3, 2)\n",
      "3\n"
     ]
    }
   ],
   "source": [
    "byfunc = lambda item: item[0]\n",
    "left_arr = [(1, 2), (3, 2), (2, -1)]\n",
    "left_index = 1\n",
    "\n",
    "print(left_arr[left_index])\n",
    "print(byfunc(left_arr[left_index]))\n"
   ]
  },
  {
   "cell_type": "code",
   "execution_count": 27,
   "metadata": {},
   "outputs": [
    {
     "name": "stdout",
     "output_type": "stream",
     "text": [
      "[(-1, -2), (2, -1), (3, 2), (1, 2), (4, 7)]\n"
     ]
    }
   ],
   "source": [
    "array = [(1, 2), (3, 2), (2, -1), (4, 7), (-1, -2)]\n",
    "mergesort(array, lambda item: item[0])\n",
    "assert array == [(-1, -2), (1, 2), (2, -1), (3, 2), (4, 7)]\n",
    "mergesort(array, lambda item: item[1])\n",
    "print(array)\n",
    "# assert array == [(-1, -2), (2, -1), (1, 2), (3, 2), (4, 7)]"
   ]
  },
  {
   "cell_type": "markdown",
   "metadata": {},
   "source": [
    "**Q2.** Create a class called `EvaluateExpression` to evaluate mathematical expressions for Integers. The class has the following property:\n",
    "- `expression`: which is a property with a get and set method. The set method of this property should check if the string contains any invalid characters. If there is any invalid character, it should set the internal property `expr` to an empty String. Otherwise, it should set the string as it is. Valid characters are: `0123456789+-*/()` and an empty space.\n",
    "- `expr`: which is a property that stores only valid expression. It is used internally to store the expression.\n",
    "\n",
    "During object instantiation, a string can be passed on to `__init__()`.\n",
    "- `__init__(expr)`: where expr is the mathematical expression to initialize the property `expr`. If nothing is provided it should initialize to an empty String. If the string contains other characters besides those in the valid characters list above, the property `expr` should be initialized to an empty string.\n",
    "\n",
    "\n"
   ]
  },
  {
   "cell_type": "code",
   "execution_count": 55,
   "metadata": {},
   "outputs": [],
   "source": [
    "class EvaluateExpression:\n",
    "    valid_char = '0123456789+-*/() '\n",
    "    index = 0\n",
    "    \n",
    "    def __init__(self, string=\"\"):\n",
    "        self.expression = string\n",
    "        # self.__class__.index += 1\n",
    "        # print(self.valid_char)\n",
    "\n",
    "    @property\n",
    "    def expression(self):\n",
    "        return self._expression\n",
    "    \n",
    "    \"\"\"\n",
    "    def reset(self):\n",
    "        self.__class__.index = 0\n",
    "    \"\"\"\n",
    "    \n",
    "    @expression.setter\n",
    "    def expression(self, new_expr):\n",
    "        for char in new_expr:\n",
    "            if char not in self.valid_char:\n",
    "                self._expression = \"\"\n",
    "                return\n",
    "\n",
    "        self._expression = new_expr\n"
   ]
  },
  {
   "cell_type": "code",
   "execution_count": 56,
   "metadata": {},
   "outputs": [
    {
     "name": "stdout",
     "output_type": "stream",
     "text": [
      "0\n",
      "0\n",
      "0\n",
      "0\n"
     ]
    }
   ],
   "source": [
    "expr1 = EvaluateExpression()\n",
    "expr1.expression = '2'\n",
    "print(expr1.index)\n",
    "\n",
    "expr2 = EvaluateExpression()\n",
    "expr2.expression = '2'\n",
    "print(expr2.index)\n",
    "print(expr1.index)\n",
    "\n",
    "print(EvaluateExpression.index)"
   ]
  },
  {
   "cell_type": "code",
   "execution_count": 57,
   "metadata": {},
   "outputs": [],
   "source": [
    "expr1 = EvaluateExpression()\n",
    "expr1.expression = '2'"
   ]
  },
  {
   "cell_type": "code",
   "execution_count": 58,
   "metadata": {},
   "outputs": [],
   "source": [
    "expr1 = EvaluateExpression()\n",
    "assert expr1.expression == \"\"\n",
    "expr2 = EvaluateExpression(\"1 + 2\")\n",
    "assert expr2.expression == \"1 + 2\"\n",
    "expr2.expression = \"3 * 4\"\n",
    "assert expr2.expression == \"3 * 4\"\n",
    "expr2.expression = \"3 & 4\"\n",
    "assert expr2.expression == \"\""
   ]
  },
  {
   "cell_type": "markdown",
   "metadata": {},
   "source": [
    "**Q3.** The class `EvaluateExpression` also has the following method:\n",
    "- `insert_space()`: which is used to insert one empty space before an operator and another empty space after the operator in the `expression` property. The function should return a new String. Note that this means that if there are two operators side by side, there will be two empty space between them.\n",
    "\n"
   ]
  },
  {
   "cell_type": "code",
   "execution_count": 71,
   "metadata": {},
   "outputs": [],
   "source": [
    "class EvaluateExpression:\n",
    "    valid_char = '0123456789+-*/() '\n",
    "    \n",
    "    def __init__(self, string=\"\"):\n",
    "        self.expression = string\n",
    "        \n",
    "    def insert_space(self):\n",
    "        new_string = ''\n",
    "        operators = '+-*/()'\n",
    "        \n",
    "        for k, char in enumerate(self.expression):\n",
    "            if char in operators:\n",
    "                new_string += f' {char} '\n",
    "            else:\n",
    "                new_string += char\n",
    "                \n",
    "        return new_string\n",
    "        \n",
    "    @property\n",
    "    def expression(self):\n",
    "        return self._expression\n",
    "    \n",
    "    @expression.setter\n",
    "    def expression(self, new_expr):\n",
    "        for char in new_expr:\n",
    "            if char not in self.valid_char:\n",
    "                self._expression = \"\"\n",
    "                return\n",
    "\n",
    "        self._expression = new_expr\n"
   ]
  },
  {
   "cell_type": "code",
   "execution_count": 73,
   "metadata": {},
   "outputs": [
    {
     "name": "stdout",
     "output_type": "stream",
     "text": [
      " ( 1 + 2 ) \n"
     ]
    }
   ],
   "source": [
    "expr1 = EvaluateExpression(\"(1+2)\")\n",
    "spaced = expr1.insert_space()\n",
    "print(spaced)\n",
    "\n",
    "assert expr1.insert_space() == \" ( 1 + 2 ) \"\n",
    "expr1.expression = \"((1+2)*3/(4-5))\"\n",
    "# print([expr1.insert_space()])\n",
    "assert expr1.insert_space() == \" (  ( 1 + 2 )  * 3 /  ( 4 - 5 )  ) \"\n"
   ]
  },
  {
   "cell_type": "markdown",
   "metadata": {},
   "source": [
    "## Week 4"
   ]
  },
  {
   "cell_type": "markdown",
   "metadata": {},
   "source": [
    "**Q4.** The class `EvaluateExpression` also has the following methods:\n",
    "- `process_operator(operand_stack, operator_stack)`: which process one operator. This method should modify the Stacks provided in the arguments. Note that the division operator `/` should be considered as an integer division for this exercise. This means that you need to use `//` in Python."
   ]
  },
  {
   "cell_type": "code",
   "execution_count": 117,
   "metadata": {},
   "outputs": [],
   "source": [
    "class Stack:\n",
    "    def __init__(self):\n",
    "        self.__items = []\n",
    "        \n",
    "    def push(self, item):\n",
    "        self.__items.append(item)\n",
    "\n",
    "    def pop(self):\n",
    "        if self.__items == []:\n",
    "            return None\n",
    "        \n",
    "        val = self.__items[-1]\n",
    "        del self.__items[-1]\n",
    "        return val\n",
    "\n",
    "    def peek(self):\n",
    "        if self.__items == []:\n",
    "            return None\n",
    "        \n",
    "        return self.__items[-1]\n",
    "        \n",
    "    @property\n",
    "    def is_empty(self):\n",
    "        return self.__items == []\n",
    "\n",
    "    @property\n",
    "    def size(self):\n",
    "        return len(self.__items)\n",
    "    \n",
    "    def __repr__(self):\n",
    "        name = self.__class__.__name__\n",
    "        str_items = ', '.join([\n",
    "            repr(item) for item in self.__items\n",
    "        ])\n",
    "        return f'{name}({str_items})'\n",
    "\n"
   ]
  },
  {
   "cell_type": "code",
   "execution_count": 118,
   "metadata": {},
   "outputs": [],
   "source": [
    "class EvaluateExpression:\n",
    "    valid_char = '0123456789+-*/() '\n",
    "    \n",
    "    def __init__(self, string=\"\"):\n",
    "        self.expression = string\n",
    "        \n",
    "    def insert_space(self):\n",
    "        new_string = ''\n",
    "        operators = '+-*/()'\n",
    "        \n",
    "        for k, char in enumerate(self.expression):\n",
    "            if char in operators:\n",
    "                new_string += f' {char} '\n",
    "            else:\n",
    "                new_string += char\n",
    "                \n",
    "        return new_string\n",
    "        \n",
    "    @property\n",
    "    def expression(self):\n",
    "        return self._expression\n",
    "    \n",
    "    @expression.setter\n",
    "    def expression(self, new_expr):\n",
    "        for char in new_expr:\n",
    "            if char not in self.valid_char:\n",
    "                self._expression = \"\"\n",
    "                return\n",
    "\n",
    "        self._expression = new_expr\n",
    "\n",
    "    def process_operator(self, operand_stack, operator_stack):\n",
    "        if operator_stack.is_empty:\n",
    "            return\n",
    "        \n",
    "        op = operator_stack.pop()\n",
    "        right = operand_stack.pop()\n",
    "        left = operand_stack.pop()\n",
    "        \n",
    "        if op == '+':\n",
    "            operand_stack.push(left + right)\n",
    "        elif op == '-':\n",
    "            operand_stack.push(left - right)\n",
    "        elif op == '*':\n",
    "            operand_stack.push(left * right)\n",
    "        elif op == '/':\n",
    "            operand_stack.push(left // right)\n",
    "    "
   ]
  },
  {
   "cell_type": "code",
   "execution_count": 119,
   "metadata": {},
   "outputs": [],
   "source": [
    "expr1 = EvaluateExpression()\n",
    "operand_stack = Stack()\n",
    "operator_stack = Stack()\n",
    "operand_stack.push(3)\n",
    "operand_stack.push(4)\n",
    "operator_stack.push(\"+\")\n",
    "expr1.process_operator(operand_stack, operator_stack)\n",
    "assert operand_stack.peek() == 7\n",
    "operand_stack.push(5)\n",
    "operator_stack.push(\"*\")\n",
    "expr1.process_operator(operand_stack, operator_stack)\n",
    "assert operand_stack.peek() == 35\n",
    "operand_stack.push(30)\n",
    "operator_stack.push(\"-\")\n",
    "expr1.process_operator(operand_stack, operator_stack)\n",
    "assert operand_stack.peek() == 5\n",
    "operand_stack.push(2)\n",
    "operator_stack.push(\"/\")\n",
    "expr1.process_operator(operand_stack, operator_stack)\n",
    "assert operand_stack.peek() == 2"
   ]
  },
  {
   "cell_type": "markdown",
   "metadata": {},
   "source": [
    "**Q5.** The class `EvaluateExpression` also has the following methods:\n",
    "- `evaluate()`: which evaluate the mathematical expression contained in the property `expression`. The method should return an Integer. This method contains two processes:\n",
    "    - Phase 1: In this phase, the code scans the expression from left to right to extract operands, operators, and the parentheses.\n",
    "        1. If the extracted character is an operand, push it to `operand_stack`.\n",
    "        1. If the extracted character is + or - operator, process  all the operators at the top of the `operator_stack` and push the extracted operator to `operator_stack`. You should process all the operators as long as the `operator_stack` is not empty and the top of the `operator_stack` is not `(` or `)` symbols.\n",
    "        1. If the extracted character is a `*` or `/` operator, process all the `*` or `/` operators at the top of the `operator_stack` and push the extracted operator to `operator_stack`. \n",
    "        1. If the extracted character is a `(` symbol, push it to `operator_stack`.\n",
    "        1. If the extracted character is a `)` symbol, repeatedly process the operators from the top of `operator_stack` until seeing the `(` symbol on the stack. \n",
    "    - Phase 2: Repeatedly process the operators from the top of `operator_stack` until `operator_stack` is empty.\n"
   ]
  },
  {
   "cell_type": "code",
   "execution_count": 142,
   "metadata": {},
   "outputs": [],
   "source": [
    "class EvaluateExpression:\n",
    "    valid_char = '0123456789+-*/() '\n",
    "    operators = '+-*/()'\n",
    "    operands = '0123456789'\n",
    "    verbose = False\n",
    "\n",
    "    \n",
    "    def __init__(self, string=\"\"):\n",
    "        self.expression = string\n",
    "        \n",
    "    def insert_space(self):\n",
    "        new_string = ''\n",
    "        \n",
    "        for k, char in enumerate(self.expression):\n",
    "            if char in self.operators:\n",
    "                new_string += f' {char} '\n",
    "            else:\n",
    "                new_string += char\n",
    "                \n",
    "        return new_string\n",
    "        \n",
    "    @property\n",
    "    def expression(self):\n",
    "        return self._expression\n",
    "    \n",
    "    @expression.setter\n",
    "    def expression(self, new_expr):\n",
    "        for char in new_expr:\n",
    "            if char not in self.valid_char:\n",
    "                self._expression = \"\"\n",
    "                return\n",
    "\n",
    "        self._expression = new_expr\n",
    "\n",
    "    def process_operator(self, operand_stack, operator_stack):\n",
    "        if operator_stack.is_empty:\n",
    "            return\n",
    "        \n",
    "        op = operator_stack.pop()\n",
    "        right = operand_stack.pop()\n",
    "        left = operand_stack.pop()\n",
    "        \n",
    "        if op == '+':\n",
    "            operand_stack.push(left + right)\n",
    "        elif op == '-':\n",
    "            operand_stack.push(left - right)\n",
    "        elif op == '*':\n",
    "            operand_stack.push(left * right)\n",
    "        elif op == '/':\n",
    "            operand_stack.push(left // right)\n",
    "            \n",
    "    def debug(self, *args, **kwargs):\n",
    "        if self.verbose:\n",
    "            print(*args, **kwargs)\n",
    "\n",
    "    def evaluate(self):\n",
    "        operand_stack = Stack()\n",
    "        operator_stack = Stack()\n",
    "        expression = self.insert_space()\n",
    "        tokens = expression.split()\n",
    "        \n",
    "        for k, token in enumerate(tokens):\n",
    "            self.debug([k], token)\n",
    "            \n",
    "            if token in self.operands:\n",
    "                operand_stack.push(int(token))\n",
    "                \n",
    "            elif token in '+-':\n",
    "                while not operator_stack.is_empty:\n",
    "                    if operator_stack.peek() in '()':\n",
    "                        break\n",
    "                    \n",
    "                    self.process_operator(\n",
    "                        operand_stack, operator_stack\n",
    "                    )\n",
    "                operator_stack.push(token)\n",
    "                \n",
    "            elif token in '*/':\n",
    "                while not operator_stack.is_empty:\n",
    "                    if operator_stack.peek() not in '*/':\n",
    "                        break\n",
    "                        \n",
    "                    self.process_operator(\n",
    "                        operand_stack, operator_stack\n",
    "                    )\n",
    "                operator_stack.push(token)\n",
    "                \n",
    "            elif token == '(':\n",
    "                operator_stack.push('(')\n",
    "                \n",
    "            elif token == ')':\n",
    "                while operator_stack.peek() != '(':\n",
    "                    self.process_operator(\n",
    "                        operand_stack, operator_stack\n",
    "                    )\n",
    "                \n",
    "                # remove final (\n",
    "                operator_stack.pop()\n",
    "                \n",
    "            self.debug('OPERATOR', operator_stack)\n",
    "            self.debug('OPERAND', operand_stack)\n",
    "                \n",
    "        self.debug('A-OPERATOR', operator_stack)\n",
    "        self.debug('A-OPERAND', operand_stack)\n",
    "        \n",
    "        while not operator_stack.is_empty:\n",
    "            self.process_operator(\n",
    "                operand_stack, operator_stack\n",
    "            )\n",
    "\n",
    "        self.debug('F-OPERATOR', operator_stack)\n",
    "        self.debug('F-OPERAND', operand_stack)\n",
    "        final_val = operand_stack.peek()\n",
    "        return final_val"
   ]
  },
  {
   "cell_type": "code",
   "execution_count": 143,
   "metadata": {},
   "outputs": [
    {
     "name": "stdout",
     "output_type": "stream",
     "text": [
      "9\n"
     ]
    }
   ],
   "source": [
    "expr1 = EvaluateExpression(\"3*3\")\n",
    "print(expr1.evaluate())\n",
    "# assert expr1.evaluate() == 9\n"
   ]
  },
  {
   "cell_type": "code",
   "execution_count": 144,
   "metadata": {},
   "outputs": [
    {
     "name": "stdout",
     "output_type": "stream",
     "text": [
      "9\n",
      "9\n"
     ]
    }
   ],
   "source": [
    "expr1 = EvaluateExpression(\"3 * 3\")\n",
    "print(expr1.evaluate())\n",
    "assert expr1.evaluate() == 9\n",
    "\n",
    "expr1 = EvaluateExpression(\"(1+2)*3\")\n",
    "print(expr1.evaluate())\n",
    "assert expr1.evaluate() == 9\n",
    "expr1.expression = \"(1 + 2) * 4 - 3\"\n",
    "assert expr1.evaluate() == 9\n",
    "expr2 = EvaluateExpression(\"(1+2 *4-  3)* (7/5 * 6)\")\n",
    "assert expr2.evaluate() == 36"
   ]
  },
  {
   "cell_type": "code",
   "execution_count": null,
   "metadata": {},
   "outputs": [],
   "source": []
  },
  {
   "cell_type": "code",
   "execution_count": null,
   "metadata": {},
   "outputs": [],
   "source": []
  }
 ],
 "metadata": {
  "kernelspec": {
   "display_name": "Python 3 (ipykernel)",
   "language": "python",
   "name": "python3"
  },
  "language_info": {
   "codemirror_mode": {
    "name": "ipython",
    "version": 3
   },
   "file_extension": ".py",
   "mimetype": "text/x-python",
   "name": "python",
   "nbconvert_exporter": "python",
   "pygments_lexer": "ipython3",
   "version": "3.7.10"
  }
 },
 "nbformat": 4,
 "nbformat_minor": 4
}
